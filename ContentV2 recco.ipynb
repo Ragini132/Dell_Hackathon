{
 "cells": [
  {
   "cell_type": "code",
   "execution_count": 298,
   "metadata": {},
   "outputs": [],
   "source": [
    "import numpy as np\n",
    "import csv\n",
    "import pandas as pd\n",
    "import tensorflow as tf\n",
    "tf.reset_default_graph()"
   ]
  },
  {
   "cell_type": "code",
   "execution_count": 299,
   "metadata": {},
   "outputs": [
    {
     "name": "stdout",
     "output_type": "stream",
     "text": [
      "1.14.0\n"
     ]
    }
   ],
   "source": [
    "print(tf.__version__)"
   ]
  },
  {
   "cell_type": "code",
   "execution_count": 300,
   "metadata": {},
   "outputs": [
    {
     "name": "stdout",
     "output_type": "stream",
     "text": [
      "    UserId ProductId ProductName    Date  WarrantyID Features  Rating\n",
      "0        0        H1           H  141018        1906  8, 2000       2\n",
      "1        1        D1           D  291016        1906  4, 2000       1\n",
      "2        2        C1           C  151018        1909  4, 1000       1\n",
      "3        3        I1           I  180417        1915  8, 1000       2\n",
      "4        4        F1           F  190618        1908  4, 2000       1\n",
      "5        5        E1           E  281018        1906  4, 1000       1\n",
      "6        6        E2           E  251116        1902     4, 3       5\n",
      "7        7        D2           D  160117        1903     4, 5       2\n",
      "8        8        E3           E  181217        1910  4, 8000       5\n",
      "9        9        G1           G  190717        1901  8, 1000       5\n",
      "10      10        G2           G  280917        1907     8, 3       4\n",
      "11      10        I2           I   40918        1908  8, 1000       5\n",
      "12      11        A1           A  290516        1905   4, 500       2\n",
      "13      12        A2           A  310518        1913     4, 3       3\n",
      "14      13        F2           F  240518        1909     4, 5       4\n",
      "15      14        E4           E  251118        1913  4, 1000       3\n",
      "16      15        H2           H  130517        1912     8, 5       5\n",
      "17      15        I3           I  130717        1910     8, 3       3\n",
      "18      16        D3           D  180318        1905  4, 6000       3\n",
      "19      17        A3           A  170216        1906  4, 4000       1\n",
      "20      18        H3           H  111218        1914     8, 5       3\n",
      "21      19        A4           A  161017        1905   4, 500       5\n",
      "22      20        G3           G  180917        1911  8, 1000       3\n",
      "23      21        A5           A  240218        1905     4, 3       3\n",
      "24      21        F3           F  171217        1909  4, 2000       3\n",
      "25      22        I4           I  211117        1902  8, 8000       3\n",
      "26      22        J1           J  230316        1904  8, 8000       1\n",
      "27      23        I5           I  160317        1901  8, 8000       4\n",
      "28      24        J2           J  310718        1912  8, 8000       1\n",
      "29      25        B1           B  300916        1908  4, 1000       1\n",
      "30      25        F4           F  290717        1905  4, 8000       1\n",
      "31      26        J3           J  230517        1914  8, 2000       3\n",
      "32      27        C2           C  141017        1908     4, 3       2\n",
      "33      28        A6           A  270416        1910  4, 4000       3\n",
      "34      29        D4           D  221017        1912     4, 5       2\n",
      "35      30        C3           C  170216        1902  4, 6000       4\n",
      "36      31        G4           G  220716        1906     8, 3       4\n",
      "37      32        H4           H  280218        1901  8, 6000       3\n",
      "38      32        F5           F  281016        1915  4, 8000       1\n",
      "39      33        B2           B  290718        1913  4, 4000       3\n",
      "40      34        J4           J  191217        1902  8, 2000       5\n",
      "41      35        D5           D  130518        1915  4, 2000       2\n",
      "42      35        D6           D  141216        1909     4, 5       5\n",
      "43      36        G5           G  141016        1909  8, 6000       1\n",
      "44      37        D7           D  140716        1907  4, 6000       3\n",
      "45      38        J5           J  161116        1914     8, 5       5\n",
      "46      39        A7           A  180218        1906   4, 500       3\n",
      "47      39        B3           B  260517        1905     4, 5       2\n"
     ]
    }
   ],
   "source": [
    "df = pd.read_excel (r'C:\\Users\\hp\\Desktop\\Abhishek\\Dell_Dataset.xlsx', sheet_name='User-Warranty DB')\n",
    "print (df)\n"
   ]
  },
  {
   "cell_type": "code",
   "execution_count": 301,
   "metadata": {},
   "outputs": [
    {
     "name": "stdout",
     "output_type": "stream",
     "text": [
      "15\n",
      "40\n"
     ]
    }
   ],
   "source": [
    "WI=df.WarrantyID.unique()\n",
    "WI = np.sort(WI, axis = 0)  \n",
    "noW=len(WI)\n",
    "print (noW)  \n",
    "UI=df.UserId.unique()\n",
    "UI=np.sort(UI, axis = 0) \n",
    "noU=len(UI)\n",
    "print (noU)  "
   ]
  },
  {
   "cell_type": "code",
   "execution_count": 302,
   "metadata": {},
   "outputs": [
    {
     "name": "stdout",
     "output_type": "stream",
     "text": [
      "[[0, 0, 0, 0, 0, 2, 0, 0, 0, 0, 0, 0, 0, 0, 0], [0, 0, 0, 0, 0, 1, 0, 0, 0, 0, 0, 0, 0, 0, 0], [0, 0, 0, 0, 0, 0, 0, 0, 1, 0, 0, 0, 0, 0, 0], [0, 0, 0, 0, 0, 0, 0, 0, 0, 0, 0, 0, 0, 0, 2], [0, 0, 0, 0, 0, 0, 0, 1, 0, 0, 0, 0, 0, 0, 0], [0, 0, 0, 0, 0, 1, 0, 0, 0, 0, 0, 0, 0, 0, 0], [0, 5, 0, 0, 0, 0, 0, 0, 0, 0, 0, 0, 0, 0, 0], [0, 0, 2, 0, 0, 0, 0, 0, 0, 0, 0, 0, 0, 0, 0], [0, 0, 0, 0, 0, 0, 0, 0, 0, 5, 0, 0, 0, 0, 0], [5, 0, 0, 0, 0, 0, 0, 0, 0, 0, 0, 0, 0, 0, 0], [0, 0, 0, 0, 0, 0, 4, 5, 0, 0, 0, 0, 0, 0, 0], [0, 0, 0, 0, 2, 0, 0, 0, 0, 0, 0, 0, 0, 0, 0], [0, 0, 0, 0, 0, 0, 0, 0, 0, 0, 0, 0, 3, 0, 0], [0, 0, 0, 0, 0, 0, 0, 0, 4, 0, 0, 0, 0, 0, 0], [0, 0, 0, 0, 0, 0, 0, 0, 0, 0, 0, 0, 3, 0, 0], [0, 0, 0, 0, 0, 0, 0, 0, 0, 3, 0, 5, 0, 0, 0], [0, 0, 0, 0, 3, 0, 0, 0, 0, 0, 0, 0, 0, 0, 0], [0, 0, 0, 0, 0, 1, 0, 0, 0, 0, 0, 0, 0, 0, 0], [0, 0, 0, 0, 0, 0, 0, 0, 0, 0, 0, 0, 0, 3, 0], [0, 0, 0, 0, 5, 0, 0, 0, 0, 0, 0, 0, 0, 0, 0], [0, 0, 0, 0, 0, 0, 0, 0, 0, 0, 3, 0, 0, 0, 0], [0, 0, 0, 0, 3, 0, 0, 0, 3, 0, 0, 0, 0, 0, 0], [0, 3, 0, 1, 0, 0, 0, 0, 0, 0, 0, 0, 0, 0, 0], [4, 0, 0, 0, 0, 0, 0, 0, 0, 0, 0, 0, 0, 0, 0], [0, 0, 0, 0, 0, 0, 0, 0, 0, 0, 0, 1, 0, 0, 0], [0, 0, 0, 0, 1, 0, 0, 1, 0, 0, 0, 0, 0, 0, 0], [0, 0, 0, 0, 0, 0, 0, 0, 0, 0, 0, 0, 0, 3, 0], [0, 0, 0, 0, 0, 0, 0, 2, 0, 0, 0, 0, 0, 0, 0], [0, 0, 0, 0, 0, 0, 0, 0, 0, 3, 0, 0, 0, 0, 0], [0, 0, 0, 0, 0, 0, 0, 0, 0, 0, 0, 2, 0, 0, 0], [0, 4, 0, 0, 0, 0, 0, 0, 0, 0, 0, 0, 0, 0, 0], [0, 0, 0, 0, 0, 4, 0, 0, 0, 0, 0, 0, 0, 0, 0], [3, 0, 0, 0, 0, 0, 0, 0, 0, 0, 0, 0, 0, 0, 1], [0, 0, 0, 0, 0, 0, 0, 0, 0, 0, 0, 0, 3, 0, 0], [0, 5, 0, 0, 0, 0, 0, 0, 0, 0, 0, 0, 0, 0, 0], [0, 0, 0, 0, 0, 0, 0, 0, 5, 0, 0, 0, 0, 0, 2], [0, 0, 0, 0, 0, 0, 0, 0, 1, 0, 0, 0, 0, 0, 0], [0, 0, 0, 0, 0, 0, 3, 0, 0, 0, 0, 0, 0, 0, 0], [0, 0, 0, 0, 0, 0, 0, 0, 0, 0, 0, 0, 0, 5, 0], [0, 0, 0, 0, 2, 3, 0, 0, 0, 0, 0, 0, 0, 0, 0]]\n"
     ]
    }
   ],
   "source": [
    "w, h = len(WI), len(UI);\n",
    "Matrix =[]\n",
    "m=[]\n",
    "#print(Matrix)\n",
    "for i in UI:\n",
    "    m=[]\n",
    "    for j in range(len(WI)):\n",
    "        \n",
    "        if not df[(df['UserId']==i)& (df['WarrantyID']==WI[j])].empty:\n",
    "            d=df[(df['UserId']==i)& (df['WarrantyID']==WI[j])].iloc[0]['Rating']\n",
    "        else:\n",
    "            d=0\n",
    "        m.append(d)\n",
    "    Matrix.append(m)\n",
    "print (Matrix)\n",
    "            "
   ]
  },
  {
   "cell_type": "code",
   "execution_count": 303,
   "metadata": {},
   "outputs": [
    {
     "name": "stdout",
     "output_type": "stream",
     "text": [
      "    Warranty ID  RAM  BATTERY  SCREEN  HD  Unnamed: 5  Price  Validity\n",
      "0          1901    0        0       0   1         NaN  0.000         1\n",
      "1          1902    0        0       1   0         NaN  0.125         1\n",
      "2          1903    0        0       1   1         NaN  0.250         1\n",
      "3          1904    0        1       0   0         NaN  0.125         1\n",
      "4          1905    0        1       0   1         NaN  0.250         1\n",
      "5          1906    0        1       1   0         NaN  0.375         1\n",
      "6          1907    0        1       1   1         NaN  0.500         1\n",
      "7          1908    1        0       0   0         NaN  0.625         1\n",
      "8          1909    1        0       0   1         NaN  0.375         1\n",
      "9          1910    1        0       1   0         NaN  0.500         1\n",
      "10         1911    1        0       1   1         NaN  0.375         1\n",
      "11         1912    1        1       0   0         NaN  0.500         1\n",
      "12         1913    1        1       0   1         NaN  0.750         1\n",
      "13         1914    1        1       1   0         NaN  0.875         1\n",
      "14         1915    1        1       1   1         NaN  1.000         1\n"
     ]
    }
   ],
   "source": [
    "dfw = pd.read_excel (r'C:\\Users\\hp\\Desktop\\Abhishek\\Dell_Dataset.xlsx', sheet_name='Warrenty DB')\n",
    "print (dfw)"
   ]
  },
  {
   "cell_type": "code",
   "execution_count": 304,
   "metadata": {},
   "outputs": [
    {
     "name": "stdout",
     "output_type": "stream",
     "text": [
      "['RAM' 'BATTERY' 'SCREEN' 'HD']\n"
     ]
    }
   ],
   "source": [
    "WF=np.array(['RAM','BATTERY','SCREEN','HD'\n",
    "])\n",
    "\n",
    "print (WF) "
   ]
  },
  {
   "cell_type": "code",
   "execution_count": 305,
   "metadata": {},
   "outputs": [
    {
     "name": "stdout",
     "output_type": "stream",
     "text": [
      "[[0.0, 0.0, 0.0, 1.0, 0.0, 1.0], [0.0, 0.0, 1.0, 0.0, 0.125, 1.0], [0.0, 0.0, 1.0, 1.0, 0.25, 1.0], [0.0, 1.0, 0.0, 0.0, 0.125, 1.0], [0.0, 1.0, 0.0, 1.0, 0.25, 1.0], [0.0, 1.0, 1.0, 0.0, 0.375, 1.0], [0.0, 1.0, 1.0, 1.0, 0.5, 1.0], [1.0, 0.0, 0.0, 0.0, 0.625, 1.0], [1.0, 0.0, 0.0, 1.0, 0.375, 1.0], [1.0, 0.0, 1.0, 0.0, 0.5, 1.0], [1.0, 0.0, 1.0, 1.0, 0.375, 1.0], [1.0, 1.0, 0.0, 0.0, 0.5, 1.0], [1.0, 1.0, 0.0, 1.0, 0.75, 1.0], [1.0, 1.0, 1.0, 0.0, 0.875, 1.0], [1.0, 1.0, 1.0, 1.0, 1.0, 1.0]]\n"
     ]
    }
   ],
   "source": [
    "h1,w1 = len(WI), len(WF);\n",
    "Matrix1=[]\n",
    "noF=4\n",
    "for index, rows in dfw.iterrows(): \n",
    "    my_list =[rows.RAM, rows.BATTERY, rows.SCREEN, rows.HD, rows.Price, rows.Validity] \n",
    "    \n",
    "    Matrix1.append(my_list)\n",
    "print(Matrix1)"
   ]
  },
  {
   "cell_type": "code",
   "execution_count": 306,
   "metadata": {},
   "outputs": [
    {
     "name": "stdout",
     "output_type": "stream",
     "text": [
      "Tensor(\"Const:0\", shape=(40, 15), dtype=float32)\n",
      "Tensor(\"Const_1:0\", shape=(15, 6), dtype=float32)\n"
     ]
    }
   ],
   "source": [
    "user_warr=tf.constant(Matrix, dtype=tf.float32)\n",
    "print(user_warr)\n",
    "warr_feat=tf.constant(Matrix1, dtype=tf.float32)\n",
    "print(warr_feat)"
   ]
  },
  {
   "cell_type": "code",
   "execution_count": 307,
   "metadata": {},
   "outputs": [],
   "source": [
    "wgtd_feature_matrices=[tf.expand_dims(tf.transpose(user_warr)[:,i],axis=1)*warr_feat for i in range(noU)]\n",
    "user_warr_feat=tf.stack(wgtd_feature_matrices)"
   ]
  },
  {
   "cell_type": "code",
   "execution_count": 308,
   "metadata": {},
   "outputs": [],
   "source": [
    "user_warr_feat_sums=tf.reduce_sum(user_warr_feat,axis=1)\n",
    "user_warr_feat_totals=tf.reduce_sum(user_warr_feat_sums,axis=1)\n",
    "\n",
    "user_feats=tf.stack([user_warr_feat_sums[i,:]/user_warr_feat_totals[i] for i in range(noU)],axis=0)"
   ]
  },
  {
   "cell_type": "code",
   "execution_count": 309,
   "metadata": {},
   "outputs": [],
   "source": [
    "user_ratings=[tf.map_fn(lambda x: tf.tensordot(user_feats[i],x,axes=1),tf.cast(warr_feat,tf.float32))\n",
    "             for i in range(noU)]"
   ]
  },
  {
   "cell_type": "code",
   "execution_count": 310,
   "metadata": {},
   "outputs": [],
   "source": [
    "all_user_ratings=tf.stack(user_ratings)"
   ]
  },
  {
   "cell_type": "code",
   "execution_count": 311,
   "metadata": {},
   "outputs": [],
   "source": [
    "all_user_ratings_new=tf.where(tf.equal(user_warr,tf.zeros_like(user_warr)),all_user_ratings,-np.inf*tf.ones_like(tf.cast(user_warr,tf.float32)))"
   ]
  },
  {
   "cell_type": "code",
   "execution_count": 312,
   "metadata": {},
   "outputs": [],
   "source": [
    "def find_user_top_warr(user_index,num_to_recommend):\n",
    "    warr_ind=tf.nn.top_k(all_user_ratings_new[user_index],num_to_recommend)[1]\n",
    "    return tf.gather_nd(WI,tf.expand_dims(warr_ind,axis=1))"
   ]
  },
  {
   "cell_type": "code",
   "execution_count": 313,
   "metadata": {},
   "outputs": [
    {
     "name": "stdout",
     "output_type": "stream",
     "text": [
      "Tensor(\"Sum_2:0\", shape=(40,), dtype=float32)\n"
     ]
    }
   ],
   "source": [
    "with tf.Session() as sess:\n",
    "    sess.run(tf.global_variables_initializer())\n",
    "    user_topwarr={}\n",
    "    num_to_recommend=tf.reduce_sum(tf.cast(tf.equal(user_warr,tf.zeros_like(user_warr)),dtype=tf.float32),axis=1)\n",
    "    print(num_to_recommend)\n",
    "    for ind in range(noU):\n",
    "        top_warr=sess.run(find_user_top_warr(ind,tf.cast(num_to_recommend[ind],dtype=tf.int32)))\n",
    "        user_topwarr[UI[ind]]=list(top_warr)"
   ]
  },
  {
   "cell_type": "code",
   "execution_count": 219,
   "metadata": {},
   "outputs": [
    {
     "data": {
      "text/plain": [
       "{0: [1915,\n",
       "  1914,\n",
       "  1907,\n",
       "  1913,\n",
       "  1910,\n",
       "  1912,\n",
       "  1911,\n",
       "  1903,\n",
       "  1905,\n",
       "  1902,\n",
       "  1904,\n",
       "  1908,\n",
       "  1909,\n",
       "  1901],\n",
       " 1: [1915,\n",
       "  1914,\n",
       "  1907,\n",
       "  1913,\n",
       "  1910,\n",
       "  1912,\n",
       "  1911,\n",
       "  1903,\n",
       "  1905,\n",
       "  1902,\n",
       "  1904,\n",
       "  1908,\n",
       "  1909,\n",
       "  1901],\n",
       " 2: [1915,\n",
       "  1913,\n",
       "  1911,\n",
       "  1914,\n",
       "  1908,\n",
       "  1907,\n",
       "  1910,\n",
       "  1912,\n",
       "  1903,\n",
       "  1905,\n",
       "  1901,\n",
       "  1906,\n",
       "  1902,\n",
       "  1904],\n",
       " 3: [1914,\n",
       "  1913,\n",
       "  1907,\n",
       "  1911,\n",
       "  1910,\n",
       "  1912,\n",
       "  1906,\n",
       "  1909,\n",
       "  1903,\n",
       "  1905,\n",
       "  1908,\n",
       "  1902,\n",
       "  1904,\n",
       "  1901],\n",
       " 4: [1915,\n",
       "  1914,\n",
       "  1913,\n",
       "  1910,\n",
       "  1912,\n",
       "  1909,\n",
       "  1911,\n",
       "  1907,\n",
       "  1906,\n",
       "  1903,\n",
       "  1905,\n",
       "  1902,\n",
       "  1904,\n",
       "  1901],\n",
       " 5: [1915,\n",
       "  1914,\n",
       "  1907,\n",
       "  1913,\n",
       "  1910,\n",
       "  1912,\n",
       "  1911,\n",
       "  1903,\n",
       "  1905,\n",
       "  1902,\n",
       "  1904,\n",
       "  1908,\n",
       "  1909,\n",
       "  1901],\n",
       " 6: [1915,\n",
       "  1914,\n",
       "  1907,\n",
       "  1910,\n",
       "  1906,\n",
       "  1911,\n",
       "  1903,\n",
       "  1913,\n",
       "  1908,\n",
       "  1912,\n",
       "  1909,\n",
       "  1905,\n",
       "  1904,\n",
       "  1901],\n",
       " 7: [1915,\n",
       "  1907,\n",
       "  1911,\n",
       "  1914,\n",
       "  1913,\n",
       "  1910,\n",
       "  1906,\n",
       "  1909,\n",
       "  1905,\n",
       "  1902,\n",
       "  1901,\n",
       "  1908,\n",
       "  1912,\n",
       "  1904],\n",
       " 8: [1915,\n",
       "  1914,\n",
       "  1911,\n",
       "  1913,\n",
       "  1908,\n",
       "  1907,\n",
       "  1912,\n",
       "  1906,\n",
       "  1909,\n",
       "  1903,\n",
       "  1902,\n",
       "  1905,\n",
       "  1904,\n",
       "  1901],\n",
       " 9: [1903,\n",
       "  1905,\n",
       "  1907,\n",
       "  1909,\n",
       "  1911,\n",
       "  1913,\n",
       "  1915,\n",
       "  1902,\n",
       "  1904,\n",
       "  1906,\n",
       "  1908,\n",
       "  1910,\n",
       "  1912,\n",
       "  1914],\n",
       " 10: [1915,\n",
       "  1914,\n",
       "  1913,\n",
       "  1911,\n",
       "  1910,\n",
       "  1912,\n",
       "  1909,\n",
       "  1906,\n",
       "  1903,\n",
       "  1905,\n",
       "  1902,\n",
       "  1904,\n",
       "  1901],\n",
       " 11: [1915,\n",
       "  1913,\n",
       "  1907,\n",
       "  1914,\n",
       "  1912,\n",
       "  1906,\n",
       "  1909,\n",
       "  1911,\n",
       "  1903,\n",
       "  1904,\n",
       "  1901,\n",
       "  1908,\n",
       "  1910,\n",
       "  1902],\n",
       " 12: [1915,\n",
       "  1914,\n",
       "  1907,\n",
       "  1912,\n",
       "  1909,\n",
       "  1911,\n",
       "  1905,\n",
       "  1908,\n",
       "  1910,\n",
       "  1906,\n",
       "  1903,\n",
       "  1904,\n",
       "  1901,\n",
       "  1902],\n",
       " 13: [1915,\n",
       "  1913,\n",
       "  1911,\n",
       "  1914,\n",
       "  1908,\n",
       "  1907,\n",
       "  1910,\n",
       "  1912,\n",
       "  1903,\n",
       "  1905,\n",
       "  1901,\n",
       "  1906,\n",
       "  1902,\n",
       "  1904],\n",
       " 14: [1915,\n",
       "  1914,\n",
       "  1907,\n",
       "  1912,\n",
       "  1909,\n",
       "  1911,\n",
       "  1905,\n",
       "  1908,\n",
       "  1910,\n",
       "  1906,\n",
       "  1903,\n",
       "  1904,\n",
       "  1901,\n",
       "  1902],\n",
       " 15: [1915,\n",
       "  1914,\n",
       "  1913,\n",
       "  1911,\n",
       "  1908,\n",
       "  1907,\n",
       "  1906,\n",
       "  1909,\n",
       "  1905,\n",
       "  1904,\n",
       "  1903,\n",
       "  1902,\n",
       "  1901],\n",
       " 16: [1915,\n",
       "  1913,\n",
       "  1907,\n",
       "  1914,\n",
       "  1912,\n",
       "  1906,\n",
       "  1909,\n",
       "  1911,\n",
       "  1903,\n",
       "  1904,\n",
       "  1901,\n",
       "  1908,\n",
       "  1910,\n",
       "  1902],\n",
       " 17: [1915,\n",
       "  1914,\n",
       "  1907,\n",
       "  1913,\n",
       "  1910,\n",
       "  1912,\n",
       "  1911,\n",
       "  1903,\n",
       "  1905,\n",
       "  1902,\n",
       "  1904,\n",
       "  1908,\n",
       "  1909,\n",
       "  1901],\n",
       " 18: [1915,\n",
       "  1913,\n",
       "  1907,\n",
       "  1910,\n",
       "  1912,\n",
       "  1906,\n",
       "  1911,\n",
       "  1908,\n",
       "  1909,\n",
       "  1903,\n",
       "  1905,\n",
       "  1902,\n",
       "  1904,\n",
       "  1901],\n",
       " 19: [1915,\n",
       "  1913,\n",
       "  1907,\n",
       "  1914,\n",
       "  1912,\n",
       "  1906,\n",
       "  1909,\n",
       "  1911,\n",
       "  1903,\n",
       "  1904,\n",
       "  1901,\n",
       "  1908,\n",
       "  1910,\n",
       "  1902],\n",
       " 20: [1915,\n",
       "  1914,\n",
       "  1913,\n",
       "  1907,\n",
       "  1910,\n",
       "  1909,\n",
       "  1903,\n",
       "  1908,\n",
       "  1912,\n",
       "  1906,\n",
       "  1905,\n",
       "  1902,\n",
       "  1901,\n",
       "  1904],\n",
       " 21: [1915,\n",
       "  1913,\n",
       "  1907,\n",
       "  1911,\n",
       "  1914,\n",
       "  1912,\n",
       "  1903,\n",
       "  1901,\n",
       "  1908,\n",
       "  1910,\n",
       "  1906,\n",
       "  1904,\n",
       "  1902],\n",
       " 22: [1915,\n",
       "  1914,\n",
       "  1907,\n",
       "  1906,\n",
       "  1910,\n",
       "  1911,\n",
       "  1903,\n",
       "  1913,\n",
       "  1912,\n",
       "  1905,\n",
       "  1908,\n",
       "  1909,\n",
       "  1901],\n",
       " 23: [1903,\n",
       "  1905,\n",
       "  1907,\n",
       "  1909,\n",
       "  1911,\n",
       "  1913,\n",
       "  1915,\n",
       "  1902,\n",
       "  1904,\n",
       "  1906,\n",
       "  1908,\n",
       "  1910,\n",
       "  1912,\n",
       "  1914],\n",
       " 24: [1915,\n",
       "  1914,\n",
       "  1913,\n",
       "  1908,\n",
       "  1907,\n",
       "  1910,\n",
       "  1906,\n",
       "  1909,\n",
       "  1911,\n",
       "  1905,\n",
       "  1904,\n",
       "  1903,\n",
       "  1902,\n",
       "  1901],\n",
       " 25: [1915,\n",
       "  1913,\n",
       "  1914,\n",
       "  1907,\n",
       "  1912,\n",
       "  1909,\n",
       "  1911,\n",
       "  1910,\n",
       "  1906,\n",
       "  1903,\n",
       "  1904,\n",
       "  1901,\n",
       "  1902],\n",
       " 26: [1915,\n",
       "  1913,\n",
       "  1907,\n",
       "  1910,\n",
       "  1912,\n",
       "  1906,\n",
       "  1911,\n",
       "  1908,\n",
       "  1909,\n",
       "  1903,\n",
       "  1905,\n",
       "  1902,\n",
       "  1904,\n",
       "  1901],\n",
       " 27: [1915,\n",
       "  1914,\n",
       "  1913,\n",
       "  1910,\n",
       "  1912,\n",
       "  1909,\n",
       "  1911,\n",
       "  1907,\n",
       "  1906,\n",
       "  1903,\n",
       "  1905,\n",
       "  1902,\n",
       "  1904,\n",
       "  1901],\n",
       " 28: [1915,\n",
       "  1914,\n",
       "  1911,\n",
       "  1913,\n",
       "  1908,\n",
       "  1907,\n",
       "  1912,\n",
       "  1906,\n",
       "  1909,\n",
       "  1903,\n",
       "  1902,\n",
       "  1905,\n",
       "  1904,\n",
       "  1901],\n",
       " 29: [1915,\n",
       "  1914,\n",
       "  1913,\n",
       "  1908,\n",
       "  1907,\n",
       "  1910,\n",
       "  1906,\n",
       "  1909,\n",
       "  1911,\n",
       "  1905,\n",
       "  1904,\n",
       "  1903,\n",
       "  1902,\n",
       "  1901],\n",
       " 30: [1915,\n",
       "  1914,\n",
       "  1907,\n",
       "  1910,\n",
       "  1906,\n",
       "  1911,\n",
       "  1903,\n",
       "  1913,\n",
       "  1908,\n",
       "  1912,\n",
       "  1909,\n",
       "  1905,\n",
       "  1904,\n",
       "  1901],\n",
       " 31: [1915,\n",
       "  1914,\n",
       "  1907,\n",
       "  1913,\n",
       "  1910,\n",
       "  1912,\n",
       "  1911,\n",
       "  1903,\n",
       "  1905,\n",
       "  1902,\n",
       "  1904,\n",
       "  1908,\n",
       "  1909,\n",
       "  1901],\n",
       " 32: [1913,\n",
       "  1907,\n",
       "  1911,\n",
       "  1909,\n",
       "  1903,\n",
       "  1905,\n",
       "  1914,\n",
       "  1910,\n",
       "  1912,\n",
       "  1906,\n",
       "  1908,\n",
       "  1902,\n",
       "  1904],\n",
       " 33: [1915,\n",
       "  1914,\n",
       "  1907,\n",
       "  1912,\n",
       "  1909,\n",
       "  1911,\n",
       "  1905,\n",
       "  1908,\n",
       "  1910,\n",
       "  1906,\n",
       "  1903,\n",
       "  1904,\n",
       "  1901,\n",
       "  1902],\n",
       " 34: [1915,\n",
       "  1914,\n",
       "  1907,\n",
       "  1910,\n",
       "  1906,\n",
       "  1911,\n",
       "  1903,\n",
       "  1913,\n",
       "  1908,\n",
       "  1912,\n",
       "  1909,\n",
       "  1905,\n",
       "  1904,\n",
       "  1901],\n",
       " 35: [1913,\n",
       "  1911,\n",
       "  1914,\n",
       "  1907,\n",
       "  1910,\n",
       "  1912,\n",
       "  1903,\n",
       "  1905,\n",
       "  1908,\n",
       "  1901,\n",
       "  1906,\n",
       "  1902,\n",
       "  1904],\n",
       " 36: [1915,\n",
       "  1913,\n",
       "  1911,\n",
       "  1914,\n",
       "  1908,\n",
       "  1907,\n",
       "  1910,\n",
       "  1912,\n",
       "  1903,\n",
       "  1905,\n",
       "  1901,\n",
       "  1906,\n",
       "  1902,\n",
       "  1904],\n",
       " 37: [1915,\n",
       "  1914,\n",
       "  1913,\n",
       "  1906,\n",
       "  1911,\n",
       "  1903,\n",
       "  1905,\n",
       "  1910,\n",
       "  1912,\n",
       "  1909,\n",
       "  1902,\n",
       "  1904,\n",
       "  1901,\n",
       "  1908],\n",
       " 38: [1915,\n",
       "  1913,\n",
       "  1907,\n",
       "  1910,\n",
       "  1912,\n",
       "  1906,\n",
       "  1911,\n",
       "  1908,\n",
       "  1909,\n",
       "  1903,\n",
       "  1905,\n",
       "  1902,\n",
       "  1904,\n",
       "  1901],\n",
       " 39: [1915,\n",
       "  1907,\n",
       "  1914,\n",
       "  1913,\n",
       "  1912,\n",
       "  1911,\n",
       "  1903,\n",
       "  1904,\n",
       "  1910,\n",
       "  1902,\n",
       "  1909,\n",
       "  1901,\n",
       "  1908]}"
      ]
     },
     "execution_count": 219,
     "metadata": {},
     "output_type": "execute_result"
    }
   ],
   "source": [
    "user_topwarr"
   ]
  },
  {
   "cell_type": "code",
   "execution_count": 240,
   "metadata": {},
   "outputs": [],
   "source": [
    "df = pd.DataFrame({key: pd.Series(value) for key, value in user_topwarr.items()})\n",
    "df=df.T\n",
    "df.drop(df.index[0])\n",
    "df.to_csv(\"dict.csv\", encoding='utf-8', index=True)"
   ]
  },
  {
   "cell_type": "code",
   "execution_count": 287,
   "metadata": {
    "scrolled": true
   },
   "outputs": [
    {
     "name": "stdout",
     "output_type": "stream",
     "text": [
      "    UserId  RAM  BATTERY  SCREEN  HD\n",
      "0        0    0        0       1   0\n",
      "1        1    1        0       0   1\n",
      "2        2    1        0       0   0\n",
      "3        3    1        1       1   1\n",
      "4        4    0        0       1   1\n",
      "5        5    0        0       1   0\n",
      "6        6    1        1       0   0\n",
      "7        7    0        1       0   0\n",
      "8        8    0        1       0   0\n",
      "9        9    0        1       0   0\n",
      "10      10    1        1       1   1\n",
      "11      11    1        0       1   1\n",
      "12      12    0        0       1   0\n",
      "13      13    0        0       0   1\n",
      "14      14    0        1       0   1\n",
      "15      15    0        1       1   0\n",
      "16      16    1        0       0   1\n",
      "17      17    1        0       0   0\n",
      "18      18    0        1       1   0\n",
      "19      19    0        1       0   1\n",
      "20      20    1        1       0   0\n",
      "21      21    0        1       1   1\n",
      "22      22    1        1       1   1\n",
      "23      23    1        0       0   1\n",
      "24      24    0        0       1   0\n",
      "25      25    1        0       1   1\n",
      "26      26    0        1       0   0\n",
      "27      27    0        1       1   0\n",
      "28      28    1        0       0   0\n",
      "29      29    1        0       0   1\n",
      "30      30    0        1       1   0\n",
      "31      31    0        1       0   1\n",
      "32      32    1        1       0   0\n",
      "33      33    1        1       0   1\n",
      "34      34    1        0       1   0\n",
      "35      35    1        0       1   0\n",
      "36      36    1        0       1   1\n",
      "37      37    1        0       1   0\n",
      "38      38    0        0       0   1\n",
      "39      39    1        1       0   0\n"
     ]
    }
   ],
   "source": [
    "dfi = pd.read_excel (r'C:\\Users\\hp\\Desktop\\Abhishek\\Dell_Dataset.xlsx', sheet_name='Issue DB')\n",
    "print (dfi)"
   ]
  },
  {
   "cell_type": "code",
   "execution_count": 315,
   "metadata": {},
   "outputs": [
    {
     "name": "stdout",
     "output_type": "stream",
     "text": [
      "[[0, 0, 1, 0], [1, 0, 0, 1], [1, 0, 0, 0], [1, 1, 1, 1], [0, 0, 1, 1], [0, 0, 1, 0], [1, 1, 0, 0], [0, 1, 0, 0], [0, 1, 0, 0], [0, 1, 0, 0], [1, 1, 1, 1], [1, 0, 1, 1], [0, 0, 1, 0], [0, 0, 0, 1], [0, 1, 0, 1], [0, 1, 1, 0], [1, 0, 0, 1], [1, 0, 0, 0], [0, 1, 1, 0], [0, 1, 0, 1], [1, 1, 0, 0], [0, 1, 1, 1], [1, 1, 1, 1], [1, 0, 0, 1], [0, 0, 1, 0], [1, 0, 1, 1], [0, 1, 0, 0], [0, 1, 1, 0], [1, 0, 0, 0], [1, 0, 0, 1], [0, 1, 1, 0], [0, 1, 0, 1], [1, 1, 0, 0], [1, 1, 0, 1], [1, 0, 1, 0], [1, 0, 1, 0], [1, 0, 1, 1], [1, 0, 1, 0], [0, 0, 0, 1], [1, 1, 0, 0]]\n"
     ]
    }
   ],
   "source": [
    "Matrix2=[]\n",
    "noF=4\n",
    "for index, rows in dfi.iterrows(): \n",
    "    my_list =[rows.RAM, rows.BATTERY, rows.SCREEN, rows.HD] \n",
    "    \n",
    "    Matrix2.append(my_list)\n",
    "print(Matrix2)"
   ]
  },
  {
   "cell_type": "code",
   "execution_count": 317,
   "metadata": {
    "scrolled": true
   },
   "outputs": [
    {
     "name": "stdout",
     "output_type": "stream",
     "text": [
      "[[0.0, 0.0, 0.0, 1.0], [0.0, 0.0, 1.0, 0.0], [0.0, 0.0, 1.0, 1.0], [0.0, 1.0, 0.0, 0.0], [0.0, 1.0, 0.0, 1.0], [0.0, 1.0, 1.0, 0.0], [0.0, 1.0, 1.0, 1.0], [1.0, 0.0, 0.0, 0.0], [1.0, 0.0, 0.0, 1.0], [1.0, 0.0, 1.0, 0.0], [1.0, 0.0, 1.0, 1.0], [1.0, 1.0, 0.0, 0.0], [1.0, 1.0, 0.0, 1.0], [1.0, 1.0, 1.0, 0.0], [1.0, 1.0, 1.0, 1.0]]\n"
     ]
    }
   ],
   "source": [
    "h1,w1 = len(WI), len(WF);\n",
    "Matrix3=[]\n",
    "noF=4\n",
    "for index, rows in dfw.iterrows(): \n",
    "    my_list =[rows.RAM, rows.BATTERY, rows.SCREEN, rows.HD] \n",
    "    \n",
    "    Matrix3.append(my_list)\n",
    "print(Matrix3)"
   ]
  },
  {
   "cell_type": "code",
   "execution_count": 318,
   "metadata": {},
   "outputs": [
    {
     "name": "stdout",
     "output_type": "stream",
     "text": [
      "Tensor(\"Const_2:0\", shape=(40, 4), dtype=float32)\n",
      "Tensor(\"Const_3:0\", shape=(15, 4), dtype=float32)\n"
     ]
    }
   ],
   "source": [
    "user_issue=tf.constant(Matrix2, dtype=tf.float32)\n",
    "print(user_issue)\n",
    "warr_feat=tf.constant(Matrix3, dtype=tf.float32)\n",
    "print(warr_feat)"
   ]
  },
  {
   "cell_type": "code",
   "execution_count": 320,
   "metadata": {},
   "outputs": [
    {
     "name": "stdout",
     "output_type": "stream",
     "text": [
      "Tensor(\"stack_3:0\", shape=(40, 4), dtype=float32)\n"
     ]
    }
   ],
   "source": [
    "user_issue_stack=tf.stack([user_issue[i,:] for i in range(noU)],axis=0)\n",
    "print(user_issue_stack)"
   ]
  },
  {
   "cell_type": "code",
   "execution_count": 321,
   "metadata": {},
   "outputs": [
    {
     "name": "stdout",
     "output_type": "stream",
     "text": [
      "Tensor(\"stack_4:0\", shape=(40, 15), dtype=float32)\n"
     ]
    }
   ],
   "source": [
    "user_choices=[tf.map_fn(lambda x: tf.tensordot(user_issue_stack[i],x,axes=1),tf.cast(warr_feat,tf.float32))\n",
    "             for i in range(noU)]\n",
    "all_user_choices=tf.stack(user_choices)\n",
    "print(all_user_choices)"
   ]
  },
  {
   "cell_type": "code",
   "execution_count": 322,
   "metadata": {},
   "outputs": [],
   "source": [
    "def find_user_top_warr1(user_index,num_to_recommend):\n",
    "    warr_ind=tf.nn.top_k(all_user_choices[user_index],num_to_recommend)[1]\n",
    "    return tf.gather_nd(WI,tf.expand_dims(warr_ind,axis=1))"
   ]
  },
  {
   "cell_type": "code",
   "execution_count": 329,
   "metadata": {},
   "outputs": [
    {
     "name": "stdout",
     "output_type": "stream",
     "text": [
      "40\n"
     ]
    }
   ],
   "source": [
    "with tf.Session() as sess:\n",
    "    sess.run(tf.global_variables_initializer())\n",
    "    user_topwarr1={}\n",
    "    num_to_recommend=[5 for i in range(40)]\n",
    "    print(len(num_to_recommend))\n",
    "    for ind in range(noU):\n",
    "        top_warr1=sess.run(find_user_top_warr1(ind,tf.cast(num_to_recommend[ind],dtype=tf.int32)))\n",
    "        user_topwarr1[UI[ind]]=list(top_warr1)"
   ]
  },
  {
   "cell_type": "code",
   "execution_count": 330,
   "metadata": {},
   "outputs": [
    {
     "name": "stdout",
     "output_type": "stream",
     "text": [
      "{0: [1902, 1903, 1906, 1907, 1910], 1: [1909, 1911, 1913, 1915, 1901], 2: [1908, 1909, 1910, 1911, 1912], 3: [1915, 1907, 1911, 1913, 1914], 4: [1903, 1907, 1911, 1915, 1901], 5: [1902, 1903, 1906, 1907, 1910], 6: [1912, 1913, 1914, 1915, 1904], 7: [1904, 1905, 1906, 1907, 1912], 8: [1904, 1905, 1906, 1907, 1912], 9: [1904, 1905, 1906, 1907, 1912], 10: [1915, 1907, 1911, 1913, 1914], 11: [1911, 1915, 1903, 1907, 1909], 12: [1902, 1903, 1906, 1907, 1910], 13: [1901, 1903, 1905, 1907, 1909], 14: [1905, 1907, 1913, 1915, 1901], 15: [1906, 1907, 1914, 1915, 1902], 16: [1909, 1911, 1913, 1915, 1901], 17: [1908, 1909, 1910, 1911, 1912], 18: [1906, 1907, 1914, 1915, 1902], 19: [1905, 1907, 1913, 1915, 1901], 20: [1912, 1913, 1914, 1915, 1904], 21: [1907, 1915, 1903, 1905, 1906], 22: [1915, 1907, 1911, 1913, 1914], 23: [1909, 1911, 1913, 1915, 1901], 24: [1902, 1903, 1906, 1907, 1910], 25: [1911, 1915, 1903, 1907, 1909], 26: [1904, 1905, 1906, 1907, 1912], 27: [1906, 1907, 1914, 1915, 1902], 28: [1908, 1909, 1910, 1911, 1912], 29: [1909, 1911, 1913, 1915, 1901], 30: [1906, 1907, 1914, 1915, 1902], 31: [1905, 1907, 1913, 1915, 1901], 32: [1912, 1913, 1914, 1915, 1904], 33: [1913, 1915, 1905, 1907, 1909], 34: [1910, 1911, 1914, 1915, 1902], 35: [1910, 1911, 1914, 1915, 1902], 36: [1911, 1915, 1903, 1907, 1909], 37: [1910, 1911, 1914, 1915, 1902], 38: [1901, 1903, 1905, 1907, 1909], 39: [1912, 1913, 1914, 1915, 1904]}\n"
     ]
    }
   ],
   "source": [
    "print(user_topwarr1)"
   ]
  },
  {
   "cell_type": "code",
   "execution_count": null,
   "metadata": {},
   "outputs": [],
   "source": []
  }
 ],
 "metadata": {
  "kernelspec": {
   "display_name": "Python 3",
   "language": "python",
   "name": "python3"
  },
  "language_info": {
   "codemirror_mode": {
    "name": "ipython",
    "version": 3
   },
   "file_extension": ".py",
   "mimetype": "text/x-python",
   "name": "python",
   "nbconvert_exporter": "python",
   "pygments_lexer": "ipython3",
   "version": "3.6.3"
  }
 },
 "nbformat": 4,
 "nbformat_minor": 2
}
